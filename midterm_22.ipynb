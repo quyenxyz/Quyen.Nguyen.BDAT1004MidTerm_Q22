{
 "cells": [
  {
   "cell_type": "markdown",
   "id": "0a9d4edc",
   "metadata": {},
   "source": [
    "# Question 22"
   ]
  },
  {
   "cell_type": "code",
   "execution_count": 14,
   "id": "ee376d90",
   "metadata": {},
   "outputs": [],
   "source": [
    "import sqlite3\n",
    "\n",
    "# Create a SQLite database in memory\n",
    "connection = sqlite3.connect(':memory:')\n",
    "cursor = connection.cursor()\n",
    "\n",
    "# Create Weather table\n",
    "cursor.execute('''\n",
    "    CREATE TABLE Weather (\n",
    "        id INTEGER PRIMARY KEY,\n",
    "        recordDate DATE,\n",
    "        temperature INTEGER\n",
    "    )\n",
    "''')\n",
    "\n",
    "# Insert data\n",
    "cursor.executemany('''\n",
    "    INSERT INTO Weather (id, recordDate, temperature)\n",
    "    VALUES (?, ?, ?)\n",
    "''', [\n",
    "    (1, '2015-01-01', 10),\n",
    "    (2, '2015-01-02', 25),\n",
    "    (3, '2015-01-03', 20),\n",
    "    (4, '2015-01-04', 30)\n",
    "])\n",
    "\n",
    "connection.commit()\n",
    "\n",
    "# find all dates' Id with higher temperatures compared to its previous dates (yesterday)\n",
    "query = '''\n",
    "    SELECT w.id\n",
    "    FROM Weather w\n",
    "    WHERE temperature > (\n",
    "        SELECT temperature\n",
    "        FROM Weather\n",
    "        WHERE recordDate = DATE(w.recordDate, '-1 day')\n",
    "    )\n",
    "'''\n",
    "\n",
    "result = cursor.execute(query).fetchall()\n",
    "\n"
   ]
  },
  {
   "cell_type": "code",
   "execution_count": 15,
   "id": "758e7470",
   "metadata": {},
   "outputs": [
    {
     "name": "stdout",
     "output_type": "stream",
     "text": [
      "[(2,), (4,)]\n"
     ]
    }
   ],
   "source": [
    "print(result)\n"
   ]
  },
  {
   "cell_type": "code",
   "execution_count": null,
   "id": "12aa2695",
   "metadata": {},
   "outputs": [],
   "source": []
  }
 ],
 "metadata": {
  "kernelspec": {
   "display_name": "Python 3 (ipykernel)",
   "language": "python",
   "name": "python3"
  },
  "language_info": {
   "codemirror_mode": {
    "name": "ipython",
    "version": 3
   },
   "file_extension": ".py",
   "mimetype": "text/x-python",
   "name": "python",
   "nbconvert_exporter": "python",
   "pygments_lexer": "ipython3",
   "version": "3.11.5"
  }
 },
 "nbformat": 4,
 "nbformat_minor": 5
}
